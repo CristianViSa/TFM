{
  "nbformat": 4,
  "nbformat_minor": 0,
  "metadata": {
    "colab": {
      "name": "mapa.ipynb",
      "provenance": [],
      "collapsed_sections": []
    },
    "kernelspec": {
      "name": "python3",
      "display_name": "Python 3"
    }
  },
  "cells": [
    {
      "cell_type": "code",
      "metadata": {
        "colab": {
          "base_uri": "https://localhost:8080/"
        },
        "id": "x04nNOVEaw9v",
        "outputId": "4baf50ea-ca21-402a-a635-67120dd5c565"
      },
      "source": [
        "pip install geopandas\n"
      ],
      "execution_count": 1,
      "outputs": [
        {
          "output_type": "stream",
          "name": "stdout",
          "text": [
            "Collecting geopandas\n",
            "  Downloading geopandas-0.9.0-py2.py3-none-any.whl (994 kB)\n",
            "\u001b[?25l\r\u001b[K     |▎                               | 10 kB 6.5 MB/s eta 0:00:01\r\u001b[K     |▋                               | 20 kB 10.2 MB/s eta 0:00:01\r\u001b[K     |█                               | 30 kB 8.7 MB/s eta 0:00:01\r\u001b[K     |█▎                              | 40 kB 8.0 MB/s eta 0:00:01\r\u001b[K     |█▋                              | 51 kB 5.2 MB/s eta 0:00:01\r\u001b[K     |██                              | 61 kB 5.3 MB/s eta 0:00:01\r\u001b[K     |██▎                             | 71 kB 5.1 MB/s eta 0:00:01\r\u001b[K     |██▋                             | 81 kB 5.7 MB/s eta 0:00:01\r\u001b[K     |███                             | 92 kB 5.9 MB/s eta 0:00:01\r\u001b[K     |███▎                            | 102 kB 5.1 MB/s eta 0:00:01\r\u001b[K     |███▋                            | 112 kB 5.1 MB/s eta 0:00:01\r\u001b[K     |████                            | 122 kB 5.1 MB/s eta 0:00:01\r\u001b[K     |████▎                           | 133 kB 5.1 MB/s eta 0:00:01\r\u001b[K     |████▋                           | 143 kB 5.1 MB/s eta 0:00:01\r\u001b[K     |█████                           | 153 kB 5.1 MB/s eta 0:00:01\r\u001b[K     |█████▎                          | 163 kB 5.1 MB/s eta 0:00:01\r\u001b[K     |█████▋                          | 174 kB 5.1 MB/s eta 0:00:01\r\u001b[K     |██████                          | 184 kB 5.1 MB/s eta 0:00:01\r\u001b[K     |██████▎                         | 194 kB 5.1 MB/s eta 0:00:01\r\u001b[K     |██████▋                         | 204 kB 5.1 MB/s eta 0:00:01\r\u001b[K     |███████                         | 215 kB 5.1 MB/s eta 0:00:01\r\u001b[K     |███████▎                        | 225 kB 5.1 MB/s eta 0:00:01\r\u001b[K     |███████▋                        | 235 kB 5.1 MB/s eta 0:00:01\r\u001b[K     |████████                        | 245 kB 5.1 MB/s eta 0:00:01\r\u001b[K     |████████▎                       | 256 kB 5.1 MB/s eta 0:00:01\r\u001b[K     |████████▋                       | 266 kB 5.1 MB/s eta 0:00:01\r\u001b[K     |█████████                       | 276 kB 5.1 MB/s eta 0:00:01\r\u001b[K     |█████████▎                      | 286 kB 5.1 MB/s eta 0:00:01\r\u001b[K     |█████████▌                      | 296 kB 5.1 MB/s eta 0:00:01\r\u001b[K     |█████████▉                      | 307 kB 5.1 MB/s eta 0:00:01\r\u001b[K     |██████████▏                     | 317 kB 5.1 MB/s eta 0:00:01\r\u001b[K     |██████████▌                     | 327 kB 5.1 MB/s eta 0:00:01\r\u001b[K     |██████████▉                     | 337 kB 5.1 MB/s eta 0:00:01\r\u001b[K     |███████████▏                    | 348 kB 5.1 MB/s eta 0:00:01\r\u001b[K     |███████████▌                    | 358 kB 5.1 MB/s eta 0:00:01\r\u001b[K     |███████████▉                    | 368 kB 5.1 MB/s eta 0:00:01\r\u001b[K     |████████████▏                   | 378 kB 5.1 MB/s eta 0:00:01\r\u001b[K     |████████████▌                   | 389 kB 5.1 MB/s eta 0:00:01\r\u001b[K     |████████████▉                   | 399 kB 5.1 MB/s eta 0:00:01\r\u001b[K     |█████████████▏                  | 409 kB 5.1 MB/s eta 0:00:01\r\u001b[K     |█████████████▌                  | 419 kB 5.1 MB/s eta 0:00:01\r\u001b[K     |█████████████▉                  | 430 kB 5.1 MB/s eta 0:00:01\r\u001b[K     |██████████████▏                 | 440 kB 5.1 MB/s eta 0:00:01\r\u001b[K     |██████████████▌                 | 450 kB 5.1 MB/s eta 0:00:01\r\u001b[K     |██████████████▉                 | 460 kB 5.1 MB/s eta 0:00:01\r\u001b[K     |███████████████▏                | 471 kB 5.1 MB/s eta 0:00:01\r\u001b[K     |███████████████▌                | 481 kB 5.1 MB/s eta 0:00:01\r\u001b[K     |███████████████▉                | 491 kB 5.1 MB/s eta 0:00:01\r\u001b[K     |████████████████▏               | 501 kB 5.1 MB/s eta 0:00:01\r\u001b[K     |████████████████▌               | 512 kB 5.1 MB/s eta 0:00:01\r\u001b[K     |████████████████▉               | 522 kB 5.1 MB/s eta 0:00:01\r\u001b[K     |█████████████████▏              | 532 kB 5.1 MB/s eta 0:00:01\r\u001b[K     |█████████████████▌              | 542 kB 5.1 MB/s eta 0:00:01\r\u001b[K     |█████████████████▉              | 552 kB 5.1 MB/s eta 0:00:01\r\u001b[K     |██████████████████▏             | 563 kB 5.1 MB/s eta 0:00:01\r\u001b[K     |██████████████████▌             | 573 kB 5.1 MB/s eta 0:00:01\r\u001b[K     |██████████████████▊             | 583 kB 5.1 MB/s eta 0:00:01\r\u001b[K     |███████████████████             | 593 kB 5.1 MB/s eta 0:00:01\r\u001b[K     |███████████████████▍            | 604 kB 5.1 MB/s eta 0:00:01\r\u001b[K     |███████████████████▊            | 614 kB 5.1 MB/s eta 0:00:01\r\u001b[K     |████████████████████            | 624 kB 5.1 MB/s eta 0:00:01\r\u001b[K     |████████████████████▍           | 634 kB 5.1 MB/s eta 0:00:01\r\u001b[K     |████████████████████▊           | 645 kB 5.1 MB/s eta 0:00:01\r\u001b[K     |█████████████████████           | 655 kB 5.1 MB/s eta 0:00:01\r\u001b[K     |█████████████████████▍          | 665 kB 5.1 MB/s eta 0:00:01\r\u001b[K     |█████████████████████▊          | 675 kB 5.1 MB/s eta 0:00:01\r\u001b[K     |██████████████████████          | 686 kB 5.1 MB/s eta 0:00:01\r\u001b[K     |██████████████████████▍         | 696 kB 5.1 MB/s eta 0:00:01\r\u001b[K     |██████████████████████▊         | 706 kB 5.1 MB/s eta 0:00:01\r\u001b[K     |███████████████████████         | 716 kB 5.1 MB/s eta 0:00:01\r\u001b[K     |███████████████████████▍        | 727 kB 5.1 MB/s eta 0:00:01\r\u001b[K     |███████████████████████▊        | 737 kB 5.1 MB/s eta 0:00:01\r\u001b[K     |████████████████████████        | 747 kB 5.1 MB/s eta 0:00:01\r\u001b[K     |████████████████████████▍       | 757 kB 5.1 MB/s eta 0:00:01\r\u001b[K     |████████████████████████▊       | 768 kB 5.1 MB/s eta 0:00:01\r\u001b[K     |█████████████████████████       | 778 kB 5.1 MB/s eta 0:00:01\r\u001b[K     |█████████████████████████▍      | 788 kB 5.1 MB/s eta 0:00:01\r\u001b[K     |█████████████████████████▊      | 798 kB 5.1 MB/s eta 0:00:01\r\u001b[K     |██████████████████████████      | 808 kB 5.1 MB/s eta 0:00:01\r\u001b[K     |██████████████████████████▍     | 819 kB 5.1 MB/s eta 0:00:01\r\u001b[K     |██████████████████████████▊     | 829 kB 5.1 MB/s eta 0:00:01\r\u001b[K     |███████████████████████████     | 839 kB 5.1 MB/s eta 0:00:01\r\u001b[K     |███████████████████████████▍    | 849 kB 5.1 MB/s eta 0:00:01\r\u001b[K     |███████████████████████████▊    | 860 kB 5.1 MB/s eta 0:00:01\r\u001b[K     |████████████████████████████    | 870 kB 5.1 MB/s eta 0:00:01\r\u001b[K     |████████████████████████████▎   | 880 kB 5.1 MB/s eta 0:00:01\r\u001b[K     |████████████████████████████▋   | 890 kB 5.1 MB/s eta 0:00:01\r\u001b[K     |█████████████████████████████   | 901 kB 5.1 MB/s eta 0:00:01\r\u001b[K     |█████████████████████████████▎  | 911 kB 5.1 MB/s eta 0:00:01\r\u001b[K     |█████████████████████████████▋  | 921 kB 5.1 MB/s eta 0:00:01\r\u001b[K     |██████████████████████████████  | 931 kB 5.1 MB/s eta 0:00:01\r\u001b[K     |██████████████████████████████▎ | 942 kB 5.1 MB/s eta 0:00:01\r\u001b[K     |██████████████████████████████▋ | 952 kB 5.1 MB/s eta 0:00:01\r\u001b[K     |███████████████████████████████ | 962 kB 5.1 MB/s eta 0:00:01\r\u001b[K     |███████████████████████████████▎| 972 kB 5.1 MB/s eta 0:00:01\r\u001b[K     |███████████████████████████████▋| 983 kB 5.1 MB/s eta 0:00:01\r\u001b[K     |████████████████████████████████| 993 kB 5.1 MB/s eta 0:00:01\r\u001b[K     |████████████████████████████████| 994 kB 5.1 MB/s \n",
            "\u001b[?25hRequirement already satisfied: pandas>=0.24.0 in /usr/local/lib/python3.7/dist-packages (from geopandas) (1.1.5)\n",
            "Collecting pyproj>=2.2.0\n",
            "  Downloading pyproj-3.2.0-cp37-cp37m-manylinux_2_24_x86_64.whl (6.3 MB)\n",
            "\u001b[K     |████████████████████████████████| 6.3 MB 44.5 MB/s \n",
            "\u001b[?25hCollecting fiona>=1.8\n",
            "  Downloading Fiona-1.8.20-cp37-cp37m-manylinux1_x86_64.whl (15.4 MB)\n",
            "\u001b[K     |████████████████████████████████| 15.4 MB 32 kB/s \n",
            "\u001b[?25hRequirement already satisfied: shapely>=1.6 in /usr/local/lib/python3.7/dist-packages (from geopandas) (1.7.1)\n",
            "Requirement already satisfied: attrs>=17 in /usr/local/lib/python3.7/dist-packages (from fiona>=1.8->geopandas) (21.2.0)\n",
            "Requirement already satisfied: certifi in /usr/local/lib/python3.7/dist-packages (from fiona>=1.8->geopandas) (2021.5.30)\n",
            "Collecting click-plugins>=1.0\n",
            "  Downloading click_plugins-1.1.1-py2.py3-none-any.whl (7.5 kB)\n",
            "Requirement already satisfied: setuptools in /usr/local/lib/python3.7/dist-packages (from fiona>=1.8->geopandas) (57.4.0)\n",
            "Collecting munch\n",
            "  Downloading munch-2.5.0-py2.py3-none-any.whl (10 kB)\n",
            "Requirement already satisfied: six>=1.7 in /usr/local/lib/python3.7/dist-packages (from fiona>=1.8->geopandas) (1.15.0)\n",
            "Requirement already satisfied: click>=4.0 in /usr/local/lib/python3.7/dist-packages (from fiona>=1.8->geopandas) (7.1.2)\n",
            "Collecting cligj>=0.5\n",
            "  Downloading cligj-0.7.2-py3-none-any.whl (7.1 kB)\n",
            "Requirement already satisfied: python-dateutil>=2.7.3 in /usr/local/lib/python3.7/dist-packages (from pandas>=0.24.0->geopandas) (2.8.2)\n",
            "Requirement already satisfied: pytz>=2017.2 in /usr/local/lib/python3.7/dist-packages (from pandas>=0.24.0->geopandas) (2018.9)\n",
            "Requirement already satisfied: numpy>=1.15.4 in /usr/local/lib/python3.7/dist-packages (from pandas>=0.24.0->geopandas) (1.19.5)\n",
            "Installing collected packages: munch, cligj, click-plugins, pyproj, fiona, geopandas\n",
            "Successfully installed click-plugins-1.1.1 cligj-0.7.2 fiona-1.8.20 geopandas-0.9.0 munch-2.5.0 pyproj-3.2.0\n"
          ]
        }
      ]
    },
    {
      "cell_type": "code",
      "metadata": {
        "colab": {
          "base_uri": "https://localhost:8080/",
          "height": 655
        },
        "id": "GqmlENSxGEJ7",
        "outputId": "1e4a8c03-74d1-4601-c563-273d4dca46ee"
      },
      "source": [
        "import matplotlib.pyplot as plt\n",
        "import geopandas as gpd\n",
        "from shapely.geometry import LineString\n",
        "from matplotlib.colors import ListedColormap    \n",
        "\n",
        "file_name = \"mapa_color.json\"\n",
        "color = ListedColormap('blue') \n",
        "  \n",
        "data = gpd.read_file(file_name)\n",
        "print(type(data))\n",
        "#print(type(data.colour))\n",
        "#print(data.colour)\n",
        "print(type(data.lectura))\n",
        "print(data.shape)\n",
        "#data.plot(color = data.colour)\n",
        "data.plot(column=data.lectura, cmap='Reds', legend = True, vmin=-1, vmax=6000, figsize=[15, 15])\n",
        "#print(data.to_json())"
      ],
      "execution_count": 2,
      "outputs": [
        {
          "output_type": "error",
          "ename": "DriverError",
          "evalue": "ignored",
          "traceback": [
            "\u001b[0;31m---------------------------------------------------------------------------\u001b[0m",
            "\u001b[0;31mCPLE_OpenFailedError\u001b[0m                      Traceback (most recent call last)",
            "\u001b[0;32mfiona/_shim.pyx\u001b[0m in \u001b[0;36mfiona._shim.gdal_open_vector\u001b[0;34m()\u001b[0m\n",
            "\u001b[0;32mfiona/_err.pyx\u001b[0m in \u001b[0;36mfiona._err.exc_wrap_pointer\u001b[0;34m()\u001b[0m\n",
            "\u001b[0;31mCPLE_OpenFailedError\u001b[0m: mapa_color.json: No such file or directory",
            "\nDuring handling of the above exception, another exception occurred:\n",
            "\u001b[0;31mDriverError\u001b[0m                               Traceback (most recent call last)",
            "\u001b[0;32m<ipython-input-2-8672ed2ae3e7>\u001b[0m in \u001b[0;36m<module>\u001b[0;34m()\u001b[0m\n\u001b[1;32m      7\u001b[0m \u001b[0mcolor\u001b[0m \u001b[0;34m=\u001b[0m \u001b[0mListedColormap\u001b[0m\u001b[0;34m(\u001b[0m\u001b[0;34m'blue'\u001b[0m\u001b[0;34m)\u001b[0m\u001b[0;34m\u001b[0m\u001b[0;34m\u001b[0m\u001b[0m\n\u001b[1;32m      8\u001b[0m \u001b[0;34m\u001b[0m\u001b[0m\n\u001b[0;32m----> 9\u001b[0;31m \u001b[0mdata\u001b[0m \u001b[0;34m=\u001b[0m \u001b[0mgpd\u001b[0m\u001b[0;34m.\u001b[0m\u001b[0mread_file\u001b[0m\u001b[0;34m(\u001b[0m\u001b[0mfile_name\u001b[0m\u001b[0;34m)\u001b[0m\u001b[0;34m\u001b[0m\u001b[0;34m\u001b[0m\u001b[0m\n\u001b[0m\u001b[1;32m     10\u001b[0m \u001b[0mprint\u001b[0m\u001b[0;34m(\u001b[0m\u001b[0mtype\u001b[0m\u001b[0;34m(\u001b[0m\u001b[0mdata\u001b[0m\u001b[0;34m)\u001b[0m\u001b[0;34m)\u001b[0m\u001b[0;34m\u001b[0m\u001b[0;34m\u001b[0m\u001b[0m\n\u001b[1;32m     11\u001b[0m \u001b[0;31m#print(type(data.colour))\u001b[0m\u001b[0;34m\u001b[0m\u001b[0;34m\u001b[0m\u001b[0;34m\u001b[0m\u001b[0m\n",
            "\u001b[0;32m/usr/local/lib/python3.7/dist-packages/geopandas/io/file.py\u001b[0m in \u001b[0;36m_read_file\u001b[0;34m(filename, bbox, mask, rows, **kwargs)\u001b[0m\n\u001b[1;32m    158\u001b[0m \u001b[0;34m\u001b[0m\u001b[0m\n\u001b[1;32m    159\u001b[0m     \u001b[0;32mwith\u001b[0m \u001b[0mfiona_env\u001b[0m\u001b[0;34m(\u001b[0m\u001b[0;34m)\u001b[0m\u001b[0;34m:\u001b[0m\u001b[0;34m\u001b[0m\u001b[0;34m\u001b[0m\u001b[0m\n\u001b[0;32m--> 160\u001b[0;31m         \u001b[0;32mwith\u001b[0m \u001b[0mreader\u001b[0m\u001b[0;34m(\u001b[0m\u001b[0mpath_or_bytes\u001b[0m\u001b[0;34m,\u001b[0m \u001b[0;34m**\u001b[0m\u001b[0mkwargs\u001b[0m\u001b[0;34m)\u001b[0m \u001b[0;32mas\u001b[0m \u001b[0mfeatures\u001b[0m\u001b[0;34m:\u001b[0m\u001b[0;34m\u001b[0m\u001b[0;34m\u001b[0m\u001b[0m\n\u001b[0m\u001b[1;32m    161\u001b[0m \u001b[0;34m\u001b[0m\u001b[0m\n\u001b[1;32m    162\u001b[0m             \u001b[0;31m# In a future Fiona release the crs attribute of features will\u001b[0m\u001b[0;34m\u001b[0m\u001b[0;34m\u001b[0m\u001b[0;34m\u001b[0m\u001b[0m\n",
            "\u001b[0;32m/usr/local/lib/python3.7/dist-packages/fiona/env.py\u001b[0m in \u001b[0;36mwrapper\u001b[0;34m(*args, **kwargs)\u001b[0m\n\u001b[1;32m    406\u001b[0m     \u001b[0;32mdef\u001b[0m \u001b[0mwrapper\u001b[0m\u001b[0;34m(\u001b[0m\u001b[0;34m*\u001b[0m\u001b[0margs\u001b[0m\u001b[0;34m,\u001b[0m \u001b[0;34m**\u001b[0m\u001b[0mkwargs\u001b[0m\u001b[0;34m)\u001b[0m\u001b[0;34m:\u001b[0m\u001b[0;34m\u001b[0m\u001b[0;34m\u001b[0m\u001b[0m\n\u001b[1;32m    407\u001b[0m         \u001b[0;32mif\u001b[0m \u001b[0mlocal\u001b[0m\u001b[0;34m.\u001b[0m\u001b[0m_env\u001b[0m\u001b[0;34m:\u001b[0m\u001b[0;34m\u001b[0m\u001b[0;34m\u001b[0m\u001b[0m\n\u001b[0;32m--> 408\u001b[0;31m             \u001b[0;32mreturn\u001b[0m \u001b[0mf\u001b[0m\u001b[0;34m(\u001b[0m\u001b[0;34m*\u001b[0m\u001b[0margs\u001b[0m\u001b[0;34m,\u001b[0m \u001b[0;34m**\u001b[0m\u001b[0mkwargs\u001b[0m\u001b[0;34m)\u001b[0m\u001b[0;34m\u001b[0m\u001b[0;34m\u001b[0m\u001b[0m\n\u001b[0m\u001b[1;32m    409\u001b[0m         \u001b[0;32melse\u001b[0m\u001b[0;34m:\u001b[0m\u001b[0;34m\u001b[0m\u001b[0;34m\u001b[0m\u001b[0m\n\u001b[1;32m    410\u001b[0m             \u001b[0;32mif\u001b[0m \u001b[0misinstance\u001b[0m\u001b[0;34m(\u001b[0m\u001b[0margs\u001b[0m\u001b[0;34m[\u001b[0m\u001b[0;36m0\u001b[0m\u001b[0;34m]\u001b[0m\u001b[0;34m,\u001b[0m \u001b[0mstr\u001b[0m\u001b[0;34m)\u001b[0m\u001b[0;34m:\u001b[0m\u001b[0;34m\u001b[0m\u001b[0;34m\u001b[0m\u001b[0m\n",
            "\u001b[0;32m/usr/local/lib/python3.7/dist-packages/fiona/__init__.py\u001b[0m in \u001b[0;36mopen\u001b[0;34m(fp, mode, driver, schema, crs, encoding, layer, vfs, enabled_drivers, crs_wkt, **kwargs)\u001b[0m\n\u001b[1;32m    255\u001b[0m         \u001b[0;32mif\u001b[0m \u001b[0mmode\u001b[0m \u001b[0;32min\u001b[0m \u001b[0;34m(\u001b[0m\u001b[0;34m'a'\u001b[0m\u001b[0;34m,\u001b[0m \u001b[0;34m'r'\u001b[0m\u001b[0;34m)\u001b[0m\u001b[0;34m:\u001b[0m\u001b[0;34m\u001b[0m\u001b[0;34m\u001b[0m\u001b[0m\n\u001b[1;32m    256\u001b[0m             c = Collection(path, mode, driver=driver, encoding=encoding,\n\u001b[0;32m--> 257\u001b[0;31m                            layer=layer, enabled_drivers=enabled_drivers, **kwargs)\n\u001b[0m\u001b[1;32m    258\u001b[0m         \u001b[0;32melif\u001b[0m \u001b[0mmode\u001b[0m \u001b[0;34m==\u001b[0m \u001b[0;34m'w'\u001b[0m\u001b[0;34m:\u001b[0m\u001b[0;34m\u001b[0m\u001b[0;34m\u001b[0m\u001b[0m\n\u001b[1;32m    259\u001b[0m             \u001b[0;32mif\u001b[0m \u001b[0mschema\u001b[0m\u001b[0;34m:\u001b[0m\u001b[0;34m\u001b[0m\u001b[0;34m\u001b[0m\u001b[0m\n",
            "\u001b[0;32m/usr/local/lib/python3.7/dist-packages/fiona/collection.py\u001b[0m in \u001b[0;36m__init__\u001b[0;34m(self, path, mode, driver, schema, crs, encoding, layer, vsi, archive, enabled_drivers, crs_wkt, ignore_fields, ignore_geometry, **kwargs)\u001b[0m\n\u001b[1;32m    160\u001b[0m             \u001b[0;32mif\u001b[0m \u001b[0mself\u001b[0m\u001b[0;34m.\u001b[0m\u001b[0mmode\u001b[0m \u001b[0;34m==\u001b[0m \u001b[0;34m'r'\u001b[0m\u001b[0;34m:\u001b[0m\u001b[0;34m\u001b[0m\u001b[0;34m\u001b[0m\u001b[0m\n\u001b[1;32m    161\u001b[0m                 \u001b[0mself\u001b[0m\u001b[0;34m.\u001b[0m\u001b[0msession\u001b[0m \u001b[0;34m=\u001b[0m \u001b[0mSession\u001b[0m\u001b[0;34m(\u001b[0m\u001b[0;34m)\u001b[0m\u001b[0;34m\u001b[0m\u001b[0;34m\u001b[0m\u001b[0m\n\u001b[0;32m--> 162\u001b[0;31m                 \u001b[0mself\u001b[0m\u001b[0;34m.\u001b[0m\u001b[0msession\u001b[0m\u001b[0;34m.\u001b[0m\u001b[0mstart\u001b[0m\u001b[0;34m(\u001b[0m\u001b[0mself\u001b[0m\u001b[0;34m,\u001b[0m \u001b[0;34m**\u001b[0m\u001b[0mkwargs\u001b[0m\u001b[0;34m)\u001b[0m\u001b[0;34m\u001b[0m\u001b[0;34m\u001b[0m\u001b[0m\n\u001b[0m\u001b[1;32m    163\u001b[0m             \u001b[0;32melif\u001b[0m \u001b[0mself\u001b[0m\u001b[0;34m.\u001b[0m\u001b[0mmode\u001b[0m \u001b[0;32min\u001b[0m \u001b[0;34m(\u001b[0m\u001b[0;34m'a'\u001b[0m\u001b[0;34m,\u001b[0m \u001b[0;34m'w'\u001b[0m\u001b[0;34m)\u001b[0m\u001b[0;34m:\u001b[0m\u001b[0;34m\u001b[0m\u001b[0;34m\u001b[0m\u001b[0m\n\u001b[1;32m    164\u001b[0m                 \u001b[0mself\u001b[0m\u001b[0;34m.\u001b[0m\u001b[0msession\u001b[0m \u001b[0;34m=\u001b[0m \u001b[0mWritingSession\u001b[0m\u001b[0;34m(\u001b[0m\u001b[0;34m)\u001b[0m\u001b[0;34m\u001b[0m\u001b[0;34m\u001b[0m\u001b[0m\n",
            "\u001b[0;32mfiona/ogrext.pyx\u001b[0m in \u001b[0;36mfiona.ogrext.Session.start\u001b[0;34m()\u001b[0m\n",
            "\u001b[0;32mfiona/_shim.pyx\u001b[0m in \u001b[0;36mfiona._shim.gdal_open_vector\u001b[0;34m()\u001b[0m\n",
            "\u001b[0;31mDriverError\u001b[0m: mapa_color.json: No such file or directory"
          ]
        }
      ]
    }
  ]
}