{
  "nbformat": 4,
  "nbformat_minor": 0,
  "metadata": {
    "colab": {
      "name": "tfm_estudio_serie_temporal.ipynb",
      "provenance": []
    },
    "kernelspec": {
      "name": "python3",
      "display_name": "Python 3"
    },
    "language_info": {
      "name": "python"
    }
  },
  "cells": [
    {
      "cell_type": "code",
      "metadata": {
        "id": "7zsZhfybk-m6",
        "colab": {
          "base_uri": "https://localhost:8080/"
        },
        "outputId": "11826dbf-4039-44e5-8d07-be5352ae1065"
      },
      "source": [
        "import numpy as np\n",
        "import pandas as pd\n",
        "import seaborn as sns\n",
        "import matplotlib.pyplot as plt\n",
        "from sklearn.metrics import mean_absolute_error\n",
        "%matplotlib inline\n",
        "\n",
        "from statsmodels.tsa.seasonal import seasonal_decompose\n",
        "from matplotlib import pyplot\n",
        "import statsmodels.formula.api as smf            # statistics and econometrics\n",
        "import statsmodels.tsa.api as smt\n",
        "import statsmodels.api as sm\n",
        "import scipy.stats as scs"
      ],
      "execution_count": 1,
      "outputs": [
        {
          "output_type": "stream",
          "name": "stderr",
          "text": [
            "/usr/local/lib/python3.7/dist-packages/statsmodels/tools/_testing.py:19: FutureWarning: pandas.util.testing is deprecated. Use the functions in the public API at pandas.testing instead.\n",
            "  import pandas.util.testing as tm\n"
          ]
        }
      ]
    },
    {
      "cell_type": "code",
      "metadata": {
        "id": "RJX4vrc7keFs"
      },
      "source": [
        "full_data_path = \"/content/drive/MyDrive/datos_web/otros/test3.csv\"\n",
        "ordered_data_path = \"/content/drive/MyDrive/datos_web/otros/cleaned_ordered.csv\"\n",
        "# ordered_data_path = \"/content/drive/MyDrive/datos_web/otros/cleaned_ordered_2.csv\"\n",
        "final_data_path = \"/content/drive/MyDrive/datos_web/otros/final_data.csv\"\n",
        "ordered_data_path_2 = \"/content/drive/MyDrive/datos_web/otros/cleaned_ordered_2.csv\"\n",
        "# test_cleaned_full_path = \"/content/drive/MyDrive/datos_web/otros/full_cleaned.csv\"\n",
        "to_show_path  = \"/content/drive/MyDrive/datos_web/otros/to_show.csv\""
      ],
      "execution_count": 2,
      "outputs": []
    },
    {
      "cell_type": "code",
      "metadata": {
        "id": "NGlvFplkk83w"
      },
      "source": [
        "final_data = pd.read_csv(final_data_path, index_col=\"Unnamed: 0\")\n",
        "full_data = pd.read_csv(ordered_data_path_2, index_col=\"Unnamed: 0\")\n",
        "\n",
        "to_show = pd.read_csv(to_show_path, index_col=\"Unnamed: 0\")"
      ],
      "execution_count": 3,
      "outputs": []
    },
    {
      "cell_type": "code",
      "metadata": {
        "id": "EHimshLuzShZ"
      },
      "source": [
        "to_show.dropna(inplace=True)"
      ],
      "execution_count": 4,
      "outputs": []
    },
    {
      "cell_type": "code",
      "metadata": {
        "id": "uPNT-pVHmHFw"
      },
      "source": [
        "datos = full_data\n",
        "datos = to_show"
      ],
      "execution_count": 5,
      "outputs": []
    },
    {
      "cell_type": "code",
      "metadata": {
        "id": "hRtIWg21qZqp",
        "colab": {
          "base_uri": "https://localhost:8080/"
        },
        "outputId": "a88e7d6b-dd23-451d-d664-ee3966fdf0d5"
      },
      "source": [
        "datos.keys()"
      ],
      "execution_count": 6,
      "outputs": [
        {
          "output_type": "execute_result",
          "data": {
            "text/plain": [
              "Index(['ATA', 'barrio', 'carriles', 'comentario', 'cp', 'desc', 'festivo',\n",
              "       'sentido', 'tipo', 'velocidad', 'fechas', 'dia', 'coches'],\n",
              "      dtype='object')"
            ]
          },
          "metadata": {},
          "execution_count": 6
        }
      ]
    },
    {
      "cell_type": "code",
      "metadata": {
        "id": "35fYaA8HlkXZ"
      },
      "source": [
        "datos = datos.set_index(pd.DatetimeIndex(pd.to_datetime(datos['fechas'].values)))\n",
        "datos.sort_values(['ATA', 'fechas'], ascending=[True, True], inplace=True)"
      ],
      "execution_count": 7,
      "outputs": []
    },
    {
      "cell_type": "code",
      "metadata": {
        "id": "5DLsHqhup50b"
      },
      "source": [
        "# datos = datos[datos.ATA==\"A71\"]\n",
        "\n",
        "datos = datos.loc[\"2021-04-01 00:00:00\":\"2021-06-30 23:00:00\"]"
      ],
      "execution_count": 8,
      "outputs": []
    },
    {
      "cell_type": "code",
      "metadata": {
        "id": "0qmCM_CJukGl"
      },
      "source": [
        "df_all = datos[['fechas','coches']].groupby(by=datos.index).sum().reset_index()"
      ],
      "execution_count": 10,
      "outputs": []
    },
    {
      "cell_type": "code",
      "metadata": {
        "id": "NRcra0VUnvXd"
      },
      "source": [
        "\n",
        "df_months = datos[['fechas','coches']].groupby(by=datos.index.month).sum().reset_index()\n",
        "df_weeks = datos[['fechas','coches']].groupby(by=datos.index.week).sum().reset_index()\n",
        "df_days = datos[['fechas','coches']].groupby(by=datos.index.weekday).sum().reset_index()\n",
        "df_hours = datos[['fechas','coches']].groupby(by=datos.index.hour).sum().reset_index()\n",
        "\n",
        "df_months.rename(columns={'coches': 'vehiculos/hora'}, inplace=True)\n",
        "df_weeks.rename(columns={'coches': 'vehiculos/hora'}, inplace=True)\n",
        "df_days.rename(columns={'coches': 'vehiculos/hora'}, inplace=True)\n",
        "df_hours.rename(columns={'coches': 'vehiculos/hora'}, inplace=True)\n",
        "\n",
        "\n",
        "df_months.rename(columns={'index': 'mes'}, inplace=True)\n",
        "df_weeks.rename(columns={'index': 'semana'}, inplace=True)\n",
        "df_days.rename(columns={'index': 'dia'}, inplace=True)\n",
        "df_hours.rename(columns={'index': 'hora'}, inplace=True)\n",
        "df_weeks.drop(0, axis = 0, inplace=True)\n",
        "import datetime\n",
        "dayOfWeek={0:'Lunes', 1:'Martes', 2:'Miercoles', 3:'Jueves', 4:'Viernes', 5:'Sabado', 6:'Domingo'}\n",
        "monthOfYear={1:'Enero', 2:'Febrero', 3:'Marzo', 4:'Abril', 5:'Mayo', 6:'Junio', 7:'Julio'}\n",
        "df_days['dia'] = df_days['dia'].map(dayOfWeek)\n",
        "df_months['mes'] = df_months['mes'].map(monthOfYear)\n",
        "print(df_months)\n",
        "sns.set(font_scale=1.2)\n",
        "b = sns.catplot(x='mes',y='vehiculos/hora',data=df_months,kind='bar',aspect=3)\n",
        "b.set_xlabels(\"mes\",fontsize=30)\n",
        "b.set_ylabels(\"vehiclos/hora\",fontsize=20)\n",
        "\n",
        "# print(df_months)\n",
        "b = sns.catplot(x='semana',y='vehiculos/hora',data=df_weeks,kind='bar',aspect=3)\n",
        "b.set_xlabels(\"semana\",fontsize=30)\n",
        "b.set_ylabels(\"vehiculos/hora\",fontsize=20)\n",
        "# print(df_months)\n",
        "b = sns.catplot(x='dia',y='vehiculos/hora',data=df_days,kind='bar',aspect=3)\n",
        "b.set_xlabels(\"dia\",fontsize=30)\n",
        "b.set_ylabels(\"vehiculos/hora\",fontsize=20)\n",
        "# print(df_months)\n",
        "b = sns.catplot(x='hora',y='vehiculos/hora',data=df_hours,kind='bar',aspect=3)\n",
        "b.set_xlabels(\"hora\",fontsize=30)\n",
        "b.set_ylabels(\"vehiculos/hora\",fontsize=20)"
      ],
      "execution_count": null,
      "outputs": []
    },
    {
      "cell_type": "code",
      "metadata": {
        "id": "MrJPmkAlZz5O"
      },
      "source": [
        "# df_all.set_index(\"index\", inplace=True)\n",
        "df_all.index.name = \"\"\n",
        "df_all.set_index(pd.to_datetime(df_all['index']), inplace=True)\n",
        "# df_all.sort_values(['index'], ascending=[True], inplace=True)\n",
        "df_all.index.name = \"\""
      ],
      "execution_count": 12,
      "outputs": []
    },
    {
      "cell_type": "markdown",
      "metadata": {
        "id": "lok-0-R6ajrC"
      },
      "source": [
        "Seasonal decompose y ADF Test"
      ]
    },
    {
      "cell_type": "code",
      "metadata": {
        "id": "JF2u5RSfuxGY"
      },
      "source": [
        "# seasonal_decompose(df_all, model=\"additive\")\n",
        "mes = df_all.loc[\"2021-03-01 00:00:00\":\"2021-03-31 23:00:00\"]\n",
        "print(mes)\n",
        "# Cambiar la frecuencia temporal\n",
        "result = seasonal_decompose(df_all.coches, model='additive', freq=24)\n",
        "# print(type(result))\n",
        "# result.plot()\n",
        "# print(coches_semana)\n",
        "\n",
        "sns.set(font_scale=1.2)\n",
        "plt.rcParams.update({'font.size': 17}) # must set in top\n",
        "fig, ax = plt.subplots(1, 1, figsize=(16,5), dpi= 120)\n",
        "ax.set_ylabel(\"Observados\")\n",
        "ax = result.observed.plot(figsize=(26,5))\n",
        "\n",
        "fig, ax = plt.subplots(1, 1, figsize=(16,5), dpi= 120)\n",
        "ax.set_ylabel(\"Tendencia\")\n",
        "ax = result.trend.plot(figsize=(26,5))\n",
        "# x = df.index.values\n",
        "# y = df['coches'].values\n",
        "\n",
        "fig, ax = plt.subplots(1, 1, figsize=(16,5), dpi= 120)\n",
        "ax.set_ylabel(\"Estacionalidad\")\n",
        "ax = result.seasonal.plot(figsize=(26,5))\n",
        "# x = df.index.values\n",
        "# y = df['coches'].values\n",
        "\n",
        "\n",
        "fig, ax = plt.subplots(1, 1, figsize=(16,5), dpi= 120)\n",
        "ax.set_ylabel(\"error\")\n",
        "ax = result.resid.plot(figsize=(26,5))\n",
        "\n",
        "\n",
        "from statsmodels.tsa.stattools import adfuller\n",
        "X = result.resid.dropna()\n",
        "# X = df_all['coches']\n",
        "result = adfuller(X)\n",
        "print('ADF Statistic: %f' % result[0])\n",
        "print('p-value: %f' % result[1])\n",
        "print('Critical Values:')\n",
        "for key, value in result[4].items():\n",
        "\tprint('\\t%s: %.3f' % (key, value))"
      ],
      "execution_count": null,
      "outputs": []
    },
    {
      "cell_type": "markdown",
      "metadata": {
        "id": "jdc5EsteahOi"
      },
      "source": [
        "Autocorrelacion"
      ]
    },
    {
      "cell_type": "code",
      "metadata": {
        "id": "C_uLsUv6m9AI"
      },
      "source": [
        "from statsmodels.tsa.stattools import acf, pacf\n",
        "from statsmodels.graphics.tsaplots import plot_acf, plot_pacf\n",
        "\n",
        "df = df_all.coches\n",
        "\n",
        "# Calculate ACF and PACF upto 50 lags\n",
        "# acf_50 = acf(df.value, nlags=50)\n",
        "# pacf_50 = pacf(df.value, nlags=50)\n",
        "acf(df.values.tolist())\n",
        "# Draw Plot\n",
        "fig, axes = plt.subplots(1,1,figsize=(20,5), dpi= 100)\n",
        "plot_acf(df.values.tolist(), lags=24*7,ax = axes)\n",
        "# plot_pacf(df.values.tolist(), lags=24*7, ax = axes)"
      ],
      "execution_count": null,
      "outputs": []
    }
  ]
}