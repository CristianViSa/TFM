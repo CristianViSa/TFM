{
  "nbformat": 4,
  "nbformat_minor": 0,
  "metadata": {
    "colab": {
      "name": "lstm_mejorada.ipynb",
      "provenance": [],
      "collapsed_sections": []
    },
    "kernelspec": {
      "name": "python3",
      "display_name": "Python 3"
    },
    "language_info": {
      "name": "python"
    }
  },
  "cells": [
    {
      "cell_type": "markdown",
      "metadata": {
        "id": "iA_fJ7uL1t4u"
      },
      "source": [
        "Imports\n"
      ]
    },
    {
      "cell_type": "code",
      "metadata": {
        "id": "7Cmv_LIq09Cw"
      },
      "source": [
        "import tensorflow as tf\n",
        "import keras\n",
        "import pandas as pd\n",
        "import numpy as np\n",
        "import datetime\n",
        "import time\n",
        "import keras.backend as K\n",
        "import math\n",
        "\n",
        "from keras.models import Sequential\n",
        "from keras.layers import Dense, Activation, LSTM, Bidirectional, Dropout, TimeDistributed\n",
        "from keras.callbacks import ModelCheckpoint, EarlyStopping\n",
        "from sklearn.metrics import auc, roc_curve, auc, mean_squared_error, mean_absolute_error\n",
        "from matplotlib import pyplot as plt\n",
        "from numpy import concatenate\n",
        "from sklearn.preprocessing import StandardScaler, MinMaxScaler\n",
        "from keras.preprocessing.sequence import TimeseriesGenerator\n",
        "# import tf.keras.preprocessing.timeseries_dataset_from_array"
      ],
      "execution_count": 13,
      "outputs": []
    },
    {
      "cell_type": "markdown",
      "metadata": {
        "id": "XCVaCO3Y1xAq"
      },
      "source": [
        "Paths y lectura de datos"
      ]
    },
    {
      "cell_type": "code",
      "metadata": {
        "id": "1f_UgA3opO0D"
      },
      "source": [
        "full_data_path = \"/content/drive/MyDrive/datos_web/otros/test3.csv\"\n",
        "ordered_data_path = \"/content/drive/MyDrive/datos_web/otros/cleaned_ordered.csv\"\n",
        "# ordered_data_path = \"/content/drive/MyDrive/datos_web/otros/cleaned_ordered_2.csv\"\n",
        "final_data_path = \"/content/drive/MyDrive/datos_web/otros/final_data.csv\"\n",
        "\n",
        "# test_cleaned_full_path = \"/content/drive/MyDrive/datos_web/otros/full_cleaned.csv\""
      ],
      "execution_count": 14,
      "outputs": []
    },
    {
      "cell_type": "code",
      "metadata": {
        "id": "fWUGIlifC0wX"
      },
      "source": [
        "final_data = pd.read_csv(final_data_path)\n",
        "dates = pd.to_datetime(final_data[\"Unnamed: 0\"].values)\n",
        "final_data.drop(\"Unnamed: 0\", axis = 1, inplace=True)\n",
        "final_data.set_index(dates, inplace=True)\n",
        "\n",
        "# final_data.set_\n",
        "ordered_data = pd.read_csv(ordered_data_path)\n",
        "ordered_data.drop(\"Unnamed: 0\", axis = 1, inplace=True)"
      ],
      "execution_count": 15,
      "outputs": []
    },
    {
      "cell_type": "markdown",
      "metadata": {
        "id": "7JUDPOO3162w"
      },
      "source": [
        "Variables y grupos. Seleccionar datos del conjunto"
      ]
    },
    {
      "cell_type": "code",
      "metadata": {
        "colab": {
          "base_uri": "https://localhost:8080/"
        },
        "id": "ulntu8N8DAcd",
        "outputId": "73d61597-8631-4369-b74e-adf4adfd7685"
      },
      "source": [
        "barrios = {}\n",
        "tipos = {}\n",
        "carriles = {}\n",
        "entradas = {\n",
        "    \"serreria\" : [\"A233\", \"A415\", \"A235\"],\n",
        "    \"avcid\" : [\"A143\", \"A170\", \"A71\", \"A72\"],\n",
        "    \"blasco\" : [\"A49\", \"A65\", \"A33\", \"A47\"]\n",
        "}\n",
        "\n",
        "print(entradas)\n",
        "salidas = {\n",
        "    \"serreria\" : [\"A74\", \"A5\", \"A51\"],\n",
        "    \"avcid\" : [\"A72\", \"A245\"],\n",
        "    \"blasco\" : [\"A234\", \"A52\"]\n",
        "}\n",
        "print(salidas)\n",
        "\n",
        "avcid = [\"A145\", \"A70\", \"A71\", \"A72\", \"A69\"]\n",
        "# alameda = [\"A174\", \"A345\" ,\"A266\", \"A277\", \"A166\", \"A173\"]\n",
        "alameda = [\"A174\", \"A345\" ,\"A173\"]\n",
        "# genaro = [\"B24\", \"B118\", \"B81\"]\n",
        "genaro = [\"B24\", \"B81\", \"B118\", \"B57\"]\n",
        "# avmed = [\"A131\", \"A179\", \"A104\", \"A88\", \"A351\" ]\n",
        "avmed = [\"A131\", \"A179\", \"A351\" ]\n",
        "# justopastor = [\"A415\", \"A359\", \"A92\", \"A230\",\"A231\"]\n",
        "justopastor = [\"A415\", \"A359\", \"A92\", \"A231\"]\n",
        "# baron = [\"A98\", \"B29\", \"B10\"]\n",
        "baron = [\"A98\", \"B10\"]\n",
        "# Barrios\n",
        "grouped = ordered_data.groupby(ordered_data.barrio)\n",
        "for name, group in grouped:\n",
        "  neighs = list(set(group.ATA))\n",
        "  barrios[name] = neighs\n",
        "print(barrios)\n",
        "\n",
        "# Tipos de calle\n",
        "grouped = ordered_data.groupby(ordered_data.tipo)\n",
        "for name, group in grouped:\n",
        "  types = list(set(group.ATA))\n",
        "  tipos[name] = types\n",
        "print(tipos)\n",
        "\n",
        "# Mismos carriles\n",
        "grouped = ordered_data.groupby(ordered_data.carriles)\n",
        "for name, group in grouped:\n",
        "  lanes = list(set(group.ATA))\n",
        "  carriles[name] = lanes\n",
        "print(carriles)"
      ],
      "execution_count": 16,
      "outputs": [
        {
          "output_type": "stream",
          "name": "stdout",
          "text": [
            "{'serreria': ['A233', 'A415', 'A235'], 'avcid': ['A143', 'A170', 'A71', 'A72'], 'blasco': ['A49', 'A65', 'A33', 'A47']}\n",
            "{'serreria': ['A74', 'A5', 'A51'], 'avcid': ['A72', 'A245'], 'blasco': ['A234', 'A52']}\n",
            "{'algiros': ['A3', 'A287', 'B74', 'A47', 'B100', 'B40', 'A74', 'A230', 'A50', 'A360', 'A231', 'A165', 'A212', 'A295', 'A297', 'A1', 'A359', 'A296', 'B86', 'B38', 'A253', 'A211', 'A52', 'A416', 'B16', 'A414', 'A415'], 'benicalap': ['B11', 'A378', 'A407', 'B125', 'B55', 'A220', 'A56', 'B1', 'A219', 'B63', 'A367', 'A298', 'B18', 'A60', 'B31', 'A299'], 'benimaclet': ['B90', 'B53', 'B24', 'B91', 'B58', 'B10', 'B65'], 'camins al grau': ['A107', 'A241', 'A261', 'A260', 'A369', 'A91', 'A235', 'A396', 'B95', 'A12', 'A233', 'A99', 'A92', 'A384', 'A411', 'A234', 'A11', 'A161'], 'campanar': ['A37', 'A362', 'B17', 'A152', 'A36', 'A168', 'A39', 'A365', 'A240', 'A111', 'A267', 'A141', 'A363', 'A81', 'A35', 'A250', 'A355', 'B126', 'A192', 'A193', 'A82', 'B20', 'A167', 'A382', 'B49', 'A270', 'A146', 'A364', 'A62', 'A377', 'A147', 'A169', 'A194', 'A61', 'B103', 'A251', 'A171', 'A38', 'A239'], 'ciutat vella': ['A252', 'A210', 'A127', 'A128', 'A238', 'A77', 'A301', 'A216', 'A46', 'A180', 'A256', 'A272', 'A154', 'A208', 'A45', 'A124', 'A173', 'A181', 'A44', 'B97', 'A174', 'A209', 'A76', 'A43', 'A379'], 'el pla del real': ['A10', 'A205', 'A9', 'A207', 'A204', 'A133', 'A34', 'A87', 'A206', 'A49', 'A112', 'A108', 'A94', 'A134', 'A113', 'A277', 'A138', 'A64', 'A8', 'B42', 'A237', 'B9', 'A102', 'A65', 'A7', 'A278', 'A33', 'B115', 'A164', 'A51'], 'extramuros': ['A84', 'A83', 'B15', 'A176', 'A290', 'A271', 'A291', 'A116', 'A18', 'A85', 'A349', 'B37', 'A122', 'A226', 'A119', 'A86', 'B13', 'A177', 'A19', 'A175', 'B69', 'A117'], 'jesus': ['A303', 'A353', 'A185', 'A243', 'A375', 'A186', 'A227', 'A140', 'A371', 'A139', 'A372', 'A110', 'B121', 'A109', 'A224', 'A374', 'A225', 'A244', 'A137', 'A184'], 'l eixample': ['A155', 'B93', 'A266', 'A386', 'A121', 'A22', 'A163', 'A73', 'A136', 'A120', 'B26', 'A345', 'A264', 'B51', 'B34', 'A55', 'A21', 'A132', 'B4', 'A166', 'B60', 'A105', 'A118', 'A16', 'A20', 'A130', 'B41', 'B14', 'A218', 'B82', 'A68', 'A217', 'B79', 'A236'], 'l olivereta': ['B73', 'A54', 'A170', 'A72', 'A246', 'B52', 'A387', 'B64', 'A71', 'A245', 'A145', 'A257', 'B104', 'B68', 'A143', 'A347', 'B105'], 'la saidia': ['B87', 'A123', 'B2', 'A395', 'A397', 'B83', 'A98', 'A53', 'A17', 'B81', 'A276', 'A344', 'B57', 'B12', 'A95', 'A13', 'A14', 'A144', 'A96', 'B27', 'B45', 'B84', 'B72', 'A223', 'A221', 'B89', 'A80', 'A222', 'A97', 'B118'], 'patraix': ['B23', 'A69', 'B44', 'A361', 'B32', 'A247', 'B36', 'A26', 'A106', 'A58', 'A25', 'A385', 'A70', 'B109', 'A182', 'B7', 'A350', 'A59', 'A248', 'A24'], 'poblados maritimos': ['B61', 'A93', 'B77', 'B21', 'B110', 'A104', 'B123', 'B124', 'B88', 'B114', 'A214', 'B80', 'A213', 'A281', 'A178', 'A351', 'B54', 'B29', 'A135', 'A153', 'A89', 'A90', 'B106', 'A283', 'A305', 'A23', 'A179', 'B94', 'A215', 'A88', 'A131', 'B108', 'A150'], 'quatre carreres': ['A114', 'A196', 'A258', 'A189', 'A187', 'A373', 'A28', 'A188', 'A413', 'A357', 'A190', 'A280', 'A30', 'A279', 'A195', 'B111', 'A254', 'A142', 'A268', 'A183', 'A409', 'A408', 'A29', 'B92', 'A197', 'A66', 'B75', 'A27', 'A129', 'A115', 'A149', 'A148', 'A15'], 'rascanya': ['A392', 'A399', 'A376', 'A200', 'A394', 'A5', 'A198', 'A201', 'A406', 'A398', 'A199']}\n",
            "{'entrada': ['A392', 'A5', 'A1'], 'primaria': ['A189', 'A121', 'A22', 'A69', 'A136', 'A116', 'A406', 'A399', 'A28', 'A260', 'A376', 'A49', 'A240', 'A413', 'A372', 'A144', 'A190', 'A46', 'A64', 'B111', 'A119', 'A374', 'A382', 'A244', 'A65', 'A261', 'A246', 'A233', 'A174', 'B115', 'A27', 'A362', 'A234', 'A239', 'A15', 'A123', 'A10', 'A205', 'A185', 'A207', 'A120', 'A186', 'A204', 'A365', 'A50', 'A165', 'A355', 'A279', 'A118', 'A223', 'A71', 'A20', 'A29', 'A235', 'A161', 'A52', 'A411', 'A59', 'A9', 'A128', 'A99', 'A152', 'A34', 'A47', 'A276', 'A72', 'A74', 'A387', 'A371', 'A96', 'A363', 'A81', 'A256', 'A192', 'A295', 'A70', 'A245', 'A8', 'A177', 'A270', 'A398', 'A408', 'A377', 'A147', 'A175', 'A33', 'A416', 'A170', 'A266', 'A127', 'A176', 'A200', 'A187', 'A201', 'A271', 'A375', 'A199', 'A188', 'A206', 'A95', 'A357', 'A111', 'A267', 'A360', 'A58', 'A280', 'A21', 'A122', 'A82', 'A124', 'A173', 'A146', 'A364', 'A7', 'A278', 'A97', 'A51', 'A198', 'A117', 'A184'], 'resdiencial': ['B29'], 'residencial': ['A395', 'B15', 'B77', 'B95', 'B21', 'B58', 'B124', 'A344', 'B88', 'B68', 'B53', 'A132', 'B55', 'B31', 'A181', 'B89', 'A44', 'B14', 'B75', 'B82', 'B103', 'A217', 'B16', 'A298', 'A66', 'A236', 'B61', 'B2', 'A386', 'B110', 'B26', 'A133', 'A77', 'B11', 'A85', 'B40', 'B37', 'B65', 'A134', 'A113', 'A45', 'B20', 'A86', 'B72', 'B49', 'B106', 'A305', 'B38', 'B41', 'A350', 'A209', 'A76', 'B69', 'B87', 'B93', 'A54', 'A83', 'B83', 'A243', 'B17', 'B23', 'A53', 'B123', 'B91', 'B81', 'A301', 'A349', 'B114', 'A216', 'B34', 'B126', 'A180', 'B90', 'B27', 'B4', 'A208', 'B109', 'B9', 'A183', 'A16', 'A182', 'B86', 'B7', 'A80', 'A130', 'B92', 'B94', 'B1', 'B63', 'A43', 'B108', 'A84', 'B125', 'A210', 'A98', 'B64', 'B105', 'B32', 'B52', 'B57', 'B12', 'B51', 'A108', 'B80', 'A55', 'B54', 'B121', 'A154', 'B45', 'A254', 'A142', 'A237', 'B18', 'B10', 'B13', 'A359', 'B97', 'A164', 'B79'], 'salida': ['A394', 'A3', 'A297', 'A287', 'A30', 'A373', 'A296'], 'secundaria': ['A114', 'A196', 'A155', 'A252', 'A258', 'A303', 'A353', 'A37', 'A290', 'A163', 'A36', 'A11', 'A238', 'A291', 'A227', 'A140', 'A18', 'A361', 'A39', 'A247', 'A24', 'A248', 'A220', 'A26', 'A139', 'A112', 'A110', 'A60', 'A281', 'A35', 'A226', 'A378', 'A25', 'A277', 'A369', 'A193', 'A272', 'A195', 'A166', 'A12', 'A105', 'A135', 'A153', 'A224', 'A219', 'A384', 'A268', 'A92', 'A225', 'A38', 'A107', 'A241', 'A283', 'A62', 'A91', 'A19', 'A197', 'A68', 'A194', 'A61', 'A145', 'A257', 'A129', 'A115', 'A143', 'A367', 'A379', 'A299', 'A109'], 'terciaria': ['A93', 'B24', 'A397', 'B104', 'A17', 'A104', 'A73', 'B74', 'A168', 'A347', 'B44', 'B73', 'B100', 'A87', 'B36', 'A345', 'A396', 'A230', 'A264', 'A214', 'A13', 'A106', 'A14', 'A141', 'A94', 'A213', 'A250', 'A178', 'A407', 'A351', 'A385', 'B118', 'A212', 'A138', 'A56', 'B84', 'B60', 'A167', 'B42', 'A137', 'A221', 'A102', 'A89', 'A409', 'A90', 'A222', 'A23', 'A179', 'A131', 'A253', 'A169', 'A211', 'A218', 'A215', 'A88', 'A414', 'A251', 'A171', 'A149', 'A148', 'A231', 'A150', 'A415']}\n",
            "{1: ['B61', 'B87', 'A37', 'B2', 'B108', 'B15', 'A386', 'B77', 'A243', 'B21', 'B17', 'B58', 'B110', 'B74', 'B123', 'B105', 'A39', 'B11', 'B26', 'B32', 'B73', 'B81', 'B124', 'B88', 'B40', 'B57', 'B114', 'B12', 'B34', 'B80', 'A55', 'B65', 'A35', 'B126', 'A351', 'B53', 'B27', 'B29', 'B4', 'A208', 'B54', 'B90', 'A135', 'A254', 'B109', 'B42', 'B18', 'B49', 'B10', 'B9', 'B31', 'A16', 'A183', 'B13', 'B86', 'B7', 'B106', 'B89', 'B38', 'A130', 'B41', 'B14', 'B94', 'B82', 'B97', 'B1', 'A209', 'B63', 'B79', 'A298', 'A38', 'B69'], 2: ['A196', 'B93', 'B125', 'A54', 'A210', 'A395', 'B24', 'B95', 'B83', 'A98', 'B23', 'B104', 'A104', 'A73', 'A168', 'A347', 'B44', 'A133', 'B64', 'B91', 'B100', 'A344', 'B52', 'A230', 'A220', 'A264', 'A216', 'A349', 'A214', 'B51', 'A106', 'B68', 'A94', 'B37', 'A213', 'A134', 'A113', 'A385', 'B121', 'A132', 'A195', 'B55', 'B20', 'A119', 'B45', 'B60', 'B72', 'A167', 'A297', 'A221', 'A89', 'A90', 'A305', 'A222', 'B92', 'A197', 'A131', 'A253', 'A350', 'A66', 'A218', 'A215', 'B75', 'A88', 'B103', 'A164', 'A217', 'A257', 'A414', 'B16', 'A171', 'A236', 'A231', 'A150', 'A415'], 3: ['A84', 'A155', 'A353', 'A83', 'A127', 'A128', 'A22', 'A53', 'A163', 'A227', 'A77', 'A87', 'A301', 'A85', 'A345', 'A394', 'A13', 'A108', 'A14', 'A21', 'A226', 'A180', 'A392', 'A277', 'B118', 'A138', 'A86', 'A224', 'A124', 'A173', 'A223', 'A237', 'A137', 'A181', 'A80', 'A20', 'A23', 'A174', 'A68', 'A76', 'A43', 'A149'], 4: ['A114', 'A303', 'A252', 'A176', 'A93', 'A290', 'A397', 'A3', 'A287', 'A36', 'A238', 'A140', 'A18', 'A260', 'B36', 'A139', 'A110', 'A281', 'A178', 'A109', 'A379', 'A45', 'A56', 'B84', 'A245', 'A142', 'A382', 'A268', 'A225', 'A102', 'A359', 'A182', 'A177', 'A409', 'A261', 'A283', 'A364', 'A179', 'A44', 'A246', 'A62', 'A169', 'A175', 'A61', 'A145', 'A115', 'A143', 'A148', 'A161'], 5: ['A123', 'A189', 'A10', 'A205', 'A9', 'A187', 'A17', 'A207', 'A152', 'A204', 'A291', 'A276', 'A188', 'A206', 'A190', 'A30', 'A355', 'A46', 'A256', 'A166', 'A12', 'A8', 'A19', 'A7', 'B115'], 6: ['A258', 'A99', 'A136', 'A373', 'A251', 'A47', 'A361', 'A247', 'A248', 'A376', 'A396', 'A74', 'A240', 'A26', 'A413', 'A50', 'A267', 'A112', 'A144', 'A141', 'A5', 'A60', 'A250', 'A15', 'A407', 'A25', 'A212', 'A154', 'A295', 'A105', 'A384', 'A244', 'A241', 'A235', 'A299', 'A211', 'A233', 'A52', 'A129', 'A234', 'A51', 'A239', 'A117', 'A24'], 7: ['A200', 'A185', 'A201', 'A11', 'A186', 'A199', 'A365', 'A280', 'A279', 'A369', 'A272', 'A92', 'A153', 'A296', 'A91', 'A146', 'A147', 'A278', 'A367', 'A198', 'A184'], 8: ['A266', 'A121', 'A69', 'A271', 'A120', 'A116', 'A34', 'A399', 'A28', 'A387', 'A95', 'A111', 'A360', 'A96', 'A165', 'A363', 'A378', 'A192', 'A64', 'A70', 'A219', 'A1', 'A118', 'A107', 'A270', 'A65', 'A29', 'A97', 'A33', 'A416', 'A411', 'A27', 'A362', 'A398'], 9: ['A408', 'A170', 'A377', 'A49', 'B111', 'A371', 'A372', 'A374', 'A59', 'A58', 'A375', 'A122'], 10: ['A194', 'A357', 'A406', 'A193'], 11: ['A71', 'A72'], 12: ['A81', 'A82']}\n"
          ]
        }
      ]
    },
    {
      "cell_type": "markdown",
      "metadata": {
        "id": "lw2W2JYiIDxo"
      },
      "source": [
        "Para crear la serie temporal, cambiar \"cols\" en funcion de lo que se quiera"
      ]
    },
    {
      "cell_type": "code",
      "metadata": {
        "id": "3td6WOZVDZGB"
      },
      "source": [
        "cols = avcid\n",
        "datos = final_data[cols]\n",
        "datos = datos[\"2021-03-15 00:00:00\":\"2021-06-20 23:00:00\"]\n",
        "datos_pre = datos[\"2021-03-15 00:00:00\":\"2021-05-09 23:00:00\"]\n",
        "datos_post = datos[\"2021-05-10 00:00:00\":\"2021-06-20 23:00:00\"]\n",
        "datos = datos[\"2021-03-15 00:00:00\":\"2021-06-20 23:00:00\"]\n",
        "datos.fillna(0, inplace=True)\n",
        "\n",
        "# datos = datos.iloc[datos.index.dayofweek == 0]\n",
        "# Para entrenar modelo final\n",
        "train = datos[\"2021-03-15 00:00:00\":\"2021-06-06 23:00:00\"]\n",
        "test = datos[\"2021-06-07 00:00:00\":\"2021-06-20 23:00:00\"]\n",
        "\n",
        "# train = datos[\"2021-03-15 00:00:00\":\"2021-05-16 23:00:00\"]\n",
        "val = datos[\"2021-05-17 00:00:00\":\"2021-06-06 23:00:00\"]\n",
        "# test = datos[\"2021-06-07 00:00:00\":\"2021-06-20 23:00:00\"]\n",
        "\n",
        "\n",
        "mondays_train = train.iloc[train.index.dayofweek == 0]\n",
        "tuesdays_train = train.iloc[train.index.dayofweek == 1]\n",
        "wednesdays_train = train.iloc[train.index.dayofweek == 2]\n",
        "thursdays_train = train.iloc[train.index.dayofweek == 3]\n",
        "fridays_train = train.iloc[train.index.dayofweek == 4]\n",
        "saturdays_train = train.iloc[train.index.dayofweek == 5]\n",
        "sundays_train = train.iloc[train.index.dayofweek == 6]\n",
        "weekdays_train = mondays_train.append(tuesdays_train).append(wednesdays_train).append(thursdays_train).append(fridays_train)\n",
        "weekends_train = saturdays_train.append(sundays_train)\n",
        "\n",
        "mondays_test = test.iloc[test.index.dayofweek == 0]\n",
        "tuesdays_test = test.iloc[test.index.dayofweek == 1]\n",
        "wednesdays_test = test.iloc[test.index.dayofweek == 2]\n",
        "thursdays_test = test.iloc[test.index.dayofweek == 3]\n",
        "fridays_test = test.iloc[test.index.dayofweek == 4]\n",
        "saturdays_test = test.iloc[test.index.dayofweek == 5]\n",
        "sundays_test = test.iloc[test.index.dayofweek == 6]\n",
        "weekdays_test = mondays_test.append(tuesdays_test).append(wednesdays_test).append(thursdays_test).append(fridays_test)\n",
        "weekends_test = saturdays_test.append(sundays_test)\n",
        "features = datos.shape[1]"
      ],
      "execution_count": 18,
      "outputs": []
    },
    {
      "cell_type": "markdown",
      "metadata": {
        "id": "bZK0XSZD4I4S"
      },
      "source": [
        "Crear la serie temporal.\n",
        "\n",
        "2 formas diferentes :\n",
        "  1 - Método create_dataset\n",
        "  2 - Método series_to_supervised\n",
        "  "
      ]
    },
    {
      "cell_type": "code",
      "metadata": {
        "id": "LJyTWIGzSyrF"
      },
      "source": [
        "# # Convertir la serie temporal en datos supervisados\n",
        "# Serie sin tener en cuenta informacion adicional, solo la hora anterior\n",
        "def series_to_supervised(data, keys, n_in=1, n_out=1, dropnan=True):\n",
        "  n_vars = 1 if type(data) is list else data.shape[1]\n",
        "  df = pd.DataFrame(data)\n",
        "  cols, names = list(), list()\n",
        "  # input sequence (t-n, ... t-1)\n",
        "  for i in range(n_in, 0, -1):\n",
        "    cols.append(df.shift(i))\n",
        "    names += [('%s(t-%d)' % (keys[j], i)) for j in range(n_vars)]\n",
        "  # forecast sequence (t, t+1, ... t+n)\n",
        "  for i in range(0, n_out):\n",
        "    cols.append(df.shift(-i))\n",
        "    if i == 0:\n",
        "      names += [('%s(t)' % (keys[j])) for j in range(n_vars)]\n",
        "    else:\n",
        "      names += [('%s(t+%d)' % (keys[j], i)) for j in range(n_vars)]\n",
        "  # put it all together\n",
        "  agg = pd.concat(cols, axis=1)\n",
        "  agg.columns = names\n",
        "  # drop rows with NaN values\n",
        "  if dropnan:\n",
        "    agg.dropna(0, inplace=True)\n",
        "  return agg\n",
        "\n",
        "\n",
        "features = train.shape[1]\n",
        "timesteps = 2\n",
        "outputs = 1\n",
        "\n",
        "## Cambiar en funcion de lo que se quiera\n",
        "# train = weekdays_train\n",
        "# test = weekdays_test\n",
        "# val = weekends_val\n",
        "# train = weekends_train\n",
        "# # test = weekends_test\n",
        "\n",
        "features = train.shape[1]\n",
        "\n",
        "train_keys = train.keys()\n",
        "test_keys = test.keys()\n",
        "val_keys = val.keys()\n",
        "print(test.iloc[0:24])\n",
        "scaler = MinMaxScaler(feature_range=(0,1))\n",
        "scaler = scaler.fit(train)\n",
        "train_values = scaler.transform(train)\n",
        "test_values = scaler.transform(test)\n",
        "val_values = scaler.transform(val)\n",
        "\n",
        "serie_train = series_to_supervised(train_values, train_keys, n_in=1, n_out=2)\n",
        "serie_test = series_to_supervised(test_values, test_keys,  n_in=1, n_out=2)\n",
        "serie_val = series_to_supervised(val_values, val_keys, n_in=1, n_out=2)\n",
        "\n",
        "x_train, y_train = serie_train.values[:, :-features], serie_train.values[:, -features:]\n",
        "x_test, y_test = serie_test.values[:, :-features], serie_test.values[:, -features:]\n",
        "x_val, y_val = serie_val.values[:, :-features], serie_val.values[:, -features:]\n",
        "\n",
        "##############  Resize de los arrays ##########\n",
        "x_train = np.asarray(x_train).astype('float32')\n",
        "x_test = np.asarray(x_test).astype('float32')\n",
        "x_val = np.asarray(x_val).astype('float32')\n",
        "\n",
        "y_train = np.asarray(y_train).astype('float32')\n",
        "y_test = np.asarray(y_test).astype('float32')\n",
        "y_val = np.asarray(y_val).astype('float32')\n",
        "\n",
        "x_train = np.reshape(x_train, (x_train.shape[0], timesteps, features))\n",
        "x_test = np.reshape(x_test, (x_test.shape[0], timesteps, features))\n",
        "x_val = np.reshape(x_val, (x_val.shape[0], timesteps, features))\n"
      ],
      "execution_count": null,
      "outputs": []
    },
    {
      "cell_type": "markdown",
      "metadata": {
        "id": "bjaK9QUn47NW"
      },
      "source": [
        "Creación del modelo"
      ]
    },
    {
      "cell_type": "code",
      "metadata": {
        "id": "HnAkeIscZiON"
      },
      "source": [
        "####### Crear y entrenar el modelo  ##########\n",
        "batch_size = 24\n",
        "epochs = 200\n",
        "# print(features, \"FEATURES\")\n",
        "# print(x_train.shape[0], \"MUESTRAS\")\n",
        "# print(timesteps, \"TIMESTEPS\")\n",
        "\n",
        "model = Sequential()\n",
        "model.add(LSTM(200, activation='relu', input_shape=(x_train.shape[1], x_train.shape[2]), return_sequences=True, name=\"Input\"))\n",
        "model.add(Dropout(0.2, name= \"Dropout_1\"))\n",
        "model.add(LSTM(50, activation='relu', name=\"Hidden_1\" , return_sequences=False))\n",
        "model.add(Dense(units = features, name = \"Output\", activation='linear'))\n",
        "model.summary()\n",
        "metrics=[\"mse\", \"mae\"]\n",
        "model.compile(metrics=metrics, loss='mae', optimizer=tf.keras.optimizers.Adam(learning_rate=0.0001)) "
      ],
      "execution_count": null,
      "outputs": []
    },
    {
      "cell_type": "code",
      "metadata": {
        "id": "jS6b4bqoXu7o"
      },
      "source": [
        "tf.keras.utils.plot_model(model, show_shapes=True)"
      ],
      "execution_count": null,
      "outputs": []
    },
    {
      "cell_type": "code",
      "metadata": {
        "id": "8UPK6Jj4ZjTY"
      },
      "source": [
        "filepath=\"weights.best.hdf5\"\n",
        "es = EarlyStopping(monitor='val_loss', mode='min', verbose=1, patience=4)\n",
        "checkpoint = ModelCheckpoint(filepath, monitor='val_mae', verbose=1, save_best_only=True, mode='min')\n",
        "callbacks_list = [checkpoint, es]"
      ],
      "execution_count": 22,
      "outputs": []
    },
    {
      "cell_type": "code",
      "metadata": {
        "id": "nqcLaPLkZkQ2"
      },
      "source": [
        "# Para ajustar\n",
        "history = model.fit(\n",
        "    x_train, y_train, \n",
        "    epochs=epochs, \n",
        "    batch_size=batch_size, \n",
        "    validation_data=(x_val, y_val),\n",
        "    callbacks=callbacks_list,\n",
        "    shuffle=False,\n",
        "    verbose=1)"
      ],
      "execution_count": null,
      "outputs": []
    },
    {
      "cell_type": "code",
      "metadata": {
        "id": "fWYVFu_JJHxf"
      },
      "source": [
        "# Final\n",
        "history = model.fit(\n",
        "    x_train, y_train, \n",
        "    epochs=epochs, \n",
        "    batch_size=batch_size, \n",
        "    validation_data=(x_test, y_test),\n",
        "    callbacks=callbacks_list,\n",
        "    shuffle=False,\n",
        "    verbose=1)"
      ],
      "execution_count": null,
      "outputs": []
    },
    {
      "cell_type": "code",
      "metadata": {
        "id": "r_Amyt7OZlsv"
      },
      "source": [
        "plt.title(\"MAE\")\n",
        "plt.xlabel(\"Épocas\")\n",
        "plt.ylabel(\"MAE\")\n",
        "plt.plot(history.history['mae'], label='entrenamiento')\n",
        "plt.plot(history.history['val_mae'], label='test')\n",
        "plt.legend()\n",
        "plt.show()\n",
        "\n",
        "\n",
        "plt.title(\"MSE\")\n",
        "plt.xlabel(\"Épocas\")\n",
        "plt.ylabel(\"MSE\")\n",
        "plt.plot(history.history['mse'], label='entrenamiento')\n",
        "plt.plot(history.history['val_mse'], label='test')\n",
        "plt.legend()\n",
        "plt.show()"
      ],
      "execution_count": null,
      "outputs": []
    },
    {
      "cell_type": "code",
      "metadata": {
        "id": "amzSKklU13LK"
      },
      "source": [
        "val_rmse_values = []\n",
        "train_rmse_values = []\n",
        "for i in history.history['val_mse']:\n",
        "  val_rmse_values.append(math.sqrt(i))\n",
        "for i in history.history['mse']:\n",
        "  train_rmse_values.append(math.sqrt(i))\n",
        "\n",
        "\n",
        "plt.title(\"RMSE\")\n",
        "plt.plot(train_rmse_values, label='entrenamiento')\n",
        "plt.plot(val_rmse_values, label='test')\n",
        "plt.legend()\n",
        "plt.xlabel(\"Épocas\")\n",
        "plt.ylabel(\"RMSE\")\n",
        "plt.show()"
      ],
      "execution_count": null,
      "outputs": []
    },
    {
      "cell_type": "code",
      "metadata": {
        "id": "4MWkBXfwU6aO"
      },
      "source": [
        "model.load_weights(\"/content/weights.best.hdf5\")\n",
        "# model.load_weights(\"/content/drive/MyDrive/datos_web/otros/weights.best.hdf5\")\n",
        "# y_test = y_train\n",
        "# # make predictions\n",
        "train_predict = model.predict(x_train)\n",
        "test_predict = model.predict(x_test)\n",
        "val_predict = model.predict(x_val)\n",
        "print(train_predict)\n",
        "train_predict_inversed = scaler.inverse_transform(train_predict)\n",
        "test_predict_inversed = scaler.inverse_transform(test_predict)  \n",
        "val_predict_inversed = scaler.inverse_transform(val_predict)  \n",
        "y_test_inversed = scaler.inverse_transform(y_test)  \n",
        "y_train_inversed = scaler.inverse_transform(y_train)\n",
        "y_val_inversed = scaler.inverse_transform(y_val)\n",
        "\n",
        "\n",
        "total_train_rmse = 0\n",
        "total_train_mae = 0\n",
        "total_train_mse = 0\n",
        "\n",
        "total_test_rmse = 0\n",
        "total_test_mae = 0\n",
        "total_test_mse = 0\n",
        "for i in range(test_predict.shape[1]):\n",
        "  train_score = math.sqrt(mean_squared_error(y_train[:, i], train_predict[:,  i]))\n",
        "  train_mse_score = mean_squared_error(y_train[:, i], train_predict[:,  i])\n",
        "  train_mae_score = mean_absolute_error(y_train[:, i], train_predict[:,  i])\n",
        "  print('Train Score: %.5f RMSE' % (train_score))\n",
        "  print('Train Score: %.5f MAE' % (train_mae_score))\n",
        "  print('Train Score: %.5f MSE' % (train_mse_score))\n",
        "  total_train_rmse += train_score\n",
        "  total_train_mae += train_mae_score\n",
        "  total_train_mse += train_mse_score\n",
        "  # # print(len(test_predict))\n",
        "  # # print(len(y_test))\n",
        "  test_score = math.sqrt(mean_squared_error(y_test[:, i], test_predict[:,  i]))\n",
        "  test_mae_score = mean_absolute_error(y_test[:, i], test_predict[:,  i])\n",
        "  test_mse_score = mean_squared_error(y_test[:, i], test_predict[:,  i])\n",
        "  print('Test Score: %.5f RMSE' % (test_score))\n",
        "  print('Test Score: %.5f MAE' % (test_mae_score))\n",
        "  print('Test Score: %.5f MSE' % (test_mse_score))\n",
        "  total_test_rmse += test_score\n",
        "  total_test_mae += test_mae_score\n",
        "  total_test_mse += test_mse_score\n",
        "  fig, ax = plt.subplots()\n",
        "  predicted_values = test_predict_inversed[:, i]\n",
        "  real_values = y_test_inversed[:, i]\n",
        "  # print(predicted_values)\n",
        "  horas = [0, 1, 2, 3, 4, 5, 6, 7, 8, 9, 10, 11, 12, 13, 14, 15, 16, 17, 18, 19,\n",
        "           20, 21, 22, 23]\n",
        "  ax.plot(horas, real_values[22:46], color = 'red', label = 'Reales')\n",
        "  ax.plot(horas, predicted_values[22:46], color = 'blue', label = 'Predichos')\n",
        "  # ax.plot(real_values, color = 'red', label = 'Reales')\n",
        "  # ax.plot(predicted_values, color = 'blue', label = 'Predichos')\n",
        "  # ax.set_title(train_keys[i])\n",
        "  if len(ordered_data[ordered_data.ATA==train_keys[i]]) > 0:\n",
        "    name = ordered_data[ordered_data.ATA==train_keys[i]].desc.iloc[0]\n",
        "  else:\n",
        "    name = train_keys[i]\n",
        "  # if len(name) > 15:\n",
        "    # name = name[0:20] +\"...\"\n",
        "  ax.set_xlabel('Hora')\n",
        "  ax.set_title(name)\n",
        "  # ax.set_xticks(x)\n",
        "  # ax.set_xticks\n",
        "  # ax.set_xticklabels([v for v in test_hours[4:1800]])\n",
        "  ax.tick_params(labelsize ='medium', pad = 5, direction = 'out', rotation = 45)\n",
        "  ax.set_ylabel('Vehiculos')\n",
        "  ax.set_xticks(np.arange(len(horas)))\n",
        "  ax.legend()\n",
        "  plt.xticks(rotation='vertical')\n",
        "  plt.show()\n",
        "  print(\"ATA -------> \", train_keys[i])\n",
        "  print(\"-------------------- ACABA AQUI, CALLE NUEVA -----------------------\")\n",
        "print('Total train Score: %.4f RMSE' % (total_train_rmse))\n",
        "print('Total train Score: %.4f MAE' % (total_train_mae))\n",
        "print('Total train Score: %.4f MSE' % (total_train_mse))\n",
        "\n",
        "print('Total test Score: %.4f RMSE' % (total_test_rmse))\n",
        "print('Total test Score: %.4f MAE' % (total_test_mae))\n",
        "print('Total test Score: %.4f MSE' % (total_test_mse))\n",
        "\n",
        "\n",
        "print('AVG train Score: %.4f RMSE' % (total_train_rmse / features))\n",
        "print('AVG train Score: %.4f MAE' % (total_train_mae / features))\n",
        "print('AVG train Score: %.4f MSE' % (total_train_mse / features))\n",
        "\n",
        "\n",
        "print('AVG test Score: %.4f RMSE' % (total_test_rmse / features))\n",
        "print('AVG test Score: %.4f MAE' % (total_test_mae / features))\n",
        "print('AVG test Score: %.4f MSE' % (total_test_mse / features))\n",
        "\n"
      ],
      "execution_count": null,
      "outputs": []
    },
    {
      "cell_type": "code",
      "metadata": {
        "id": "jzj_yCQny0Jm",
        "colab": {
          "base_uri": "https://localhost:8080/"
        },
        "outputId": "66b968d3-13bd-41b9-8259-8ec413f2cccb"
      },
      "source": [
        "train_mse_score = mean_squared_error(y_train, train_predict)\n",
        "print(\"TRAIN MSE\", train_mse_score)\n",
        "train_mae_score = mean_absolute_error(y_train, train_predict)\n",
        "print(\"TRAIN MAE\", train_mae_score)\n",
        "train_rmse_score = math.sqrt(mean_squared_error(y_train, train_predict))\n",
        "print(\"TRAIN RMSE\", train_rmse_score)\n",
        "\n",
        "val_mse_score = mean_squared_error(y_val, val_predict)\n",
        "print(\"VAL MSE\", val_mse_score)\n",
        "val_mae_score = mean_absolute_error(y_val, val_predict)\n",
        "print(\"VAL MAE\", val_mae_score)\n",
        "val_rmse_score = math.sqrt(mean_squared_error(y_val, val_predict))\n",
        "print(\"VAL RMSE\", val_rmse_score)\n",
        "\n",
        "test_mse_score = mean_squared_error(y_test, test_predict)\n",
        "print(\"TEST MSE\", test_mse_score)\n",
        "test_mae_score = mean_absolute_error(y_test, test_predict)\n",
        "print(\"TEST MAE\", test_mae_score)\n",
        "test_rmse_score = math.sqrt(mean_squared_error(y_test, test_predict))\n",
        "print(\"TEST RMSE\", test_rmse_score)\n"
      ],
      "execution_count": 27,
      "outputs": [
        {
          "output_type": "stream",
          "name": "stdout",
          "text": [
            "TRAIN MSE 0.035940584\n",
            "TRAIN MAE 0.1428188\n",
            "TRAIN RMSE 0.18958001950445375\n",
            "VAL MSE 0.042082336\n",
            "VAL MAE 0.15188761\n",
            "VAL RMSE 0.20513979574897817\n",
            "TEST MSE 0.41819718\n",
            "TEST MAE 0.23680946\n",
            "TEST RMSE 0.6466816719229808\n"
          ]
        }
      ]
    }
  ]
}